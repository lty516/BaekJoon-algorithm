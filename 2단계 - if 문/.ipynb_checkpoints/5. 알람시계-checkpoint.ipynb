{
 "cells": [
  {
   "cell_type": "code",
   "execution_count": 6,
   "metadata": {},
   "outputs": [
    {
     "name": "stdout",
     "output_type": "stream",
     "text": [
      "23 40\n",
      "22 55\n"
     ]
    }
   ],
   "source": [
    "H,M = map(int,input().split())\n",
    "\n",
    "if M > 44:             # 창영이는 원래 시간보다 45분 빨리 알람을 맞춤\n",
    "    print(H,M-45)\n",
    "elif M < 45 and H >0: # 만약 M이 45 보다  작다면 H에서 1을 마이너스해 시간을 맞춘다 \n",
    "    print(H-1,M+15)\n",
    "else:                  # 만약 H가 0이라면 창영이의 방법으로는 23을 출력해야함\n",
    "    print(23,M+15)"
   ]
  },
  {
   "cell_type": "code",
   "execution_count": null,
   "metadata": {},
   "outputs": [],
   "source": []
  }
 ],
 "metadata": {
  "kernelspec": {
   "display_name": "Python 3",
   "language": "python",
   "name": "python3"
  },
  "language_info": {
   "codemirror_mode": {
    "name": "ipython",
    "version": 3
   },
   "file_extension": ".py",
   "mimetype": "text/x-python",
   "name": "python",
   "nbconvert_exporter": "python",
   "pygments_lexer": "ipython3",
   "version": "3.7.6"
  }
 },
 "nbformat": 4,
 "nbformat_minor": 4
}
