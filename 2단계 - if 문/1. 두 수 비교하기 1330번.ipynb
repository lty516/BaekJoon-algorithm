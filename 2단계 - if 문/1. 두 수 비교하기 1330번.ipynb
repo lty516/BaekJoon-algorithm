{
 "cells": [
  {
   "cell_type": "code",
   "execution_count": 19,
   "metadata": {},
   "outputs": [
    {
     "name": "stdout",
     "output_type": "stream",
     "text": [
      "1 2\n",
      "<\n"
     ]
    }
   ],
   "source": [
    "a,b = map(int,input().split())   # map() : \n",
    "                                 # split을 사용하여 a와 b를 구분\n",
    "if (a > b): \n",
    "    print('>')\n",
    "elif (a == b):\n",
    "    print('==')\n",
    "else:\n",
    "    print('<')"
   ]
  },
  {
   "cell_type": "code",
   "execution_count": 21,
   "metadata": {},
   "outputs": [],
   "source": [
    "# map()을 사용하면 한줄의 코드로 반복문의 역할을 대신할 수있다 "
   ]
  }
 ],
 "metadata": {
  "kernelspec": {
   "display_name": "Python 3",
   "language": "python",
   "name": "python3"
  },
  "language_info": {
   "codemirror_mode": {
    "name": "ipython",
    "version": 3
   },
   "file_extension": ".py",
   "mimetype": "text/x-python",
   "name": "python",
   "nbconvert_exporter": "python",
   "pygments_lexer": "ipython3",
   "version": "3.7.6"
  }
 },
 "nbformat": 4,
 "nbformat_minor": 4
}
