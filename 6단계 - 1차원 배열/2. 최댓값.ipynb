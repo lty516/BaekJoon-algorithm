{
 "cells": [
  {
   "cell_type": "code",
   "execution_count": 1,
   "metadata": {},
   "outputs": [
    {
     "name": "stdout",
     "output_type": "stream",
     "text": [
      "3\n",
      "29\n",
      "38\n",
      "12\n",
      "57\n",
      "74\n",
      "40\n",
      "85\n",
      "61\n",
      "85 \n",
      "8\n"
     ]
    }
   ],
   "source": [
    "n = []\n",
    "for i in range(9):\n",
    "  inp = int(input())\n",
    "  n.append(inp)\n",
    "\n",
    "print(max(n), \"\\n\"+ str(n.index(max(n))+1))"
   ]
  },
  {
   "cell_type": "code",
   "execution_count": null,
   "metadata": {},
   "outputs": [],
   "source": []
  }
 ],
 "metadata": {
  "kernelspec": {
   "display_name": "Python 3",
   "language": "python",
   "name": "python3"
  },
  "language_info": {
   "codemirror_mode": {
    "name": "ipython",
    "version": 3
   },
   "file_extension": ".py",
   "mimetype": "text/x-python",
   "name": "python",
   "nbconvert_exporter": "python",
   "pygments_lexer": "ipython3",
   "version": "3.7.6"
  }
 },
 "nbformat": 4,
 "nbformat_minor": 4
}
