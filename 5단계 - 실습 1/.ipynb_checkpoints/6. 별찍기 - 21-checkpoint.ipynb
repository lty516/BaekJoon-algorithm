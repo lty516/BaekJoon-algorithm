{
 "cells": [
  {
   "cell_type": "code",
   "execution_count": 3,
   "metadata": {},
   "outputs": [
    {
     "name": "stdout",
     "output_type": "stream",
     "text": [
      "4\n",
      "* *\n",
      " * *\n",
      "* *\n",
      " * *\n",
      "* *\n",
      " * *\n",
      "* *\n",
      " * *\n"
     ]
    }
   ],
   "source": [
    "n = int(input())\n",
    "star = \"*\"\n",
    "emp = \" \"\n",
    "f_add =  n//2 + [1,0][n%2 == 0]  \n",
    "\n",
    "for i in range(n):\n",
    "    print(((star+emp)*f_add).rstrip())\n",
    "    print((emp+star)*(n-f_add))"
   ]
  },
  {
   "cell_type": "code",
   "execution_count": null,
   "metadata": {},
   "outputs": [],
   "source": []
  }
 ],
 "metadata": {
  "kernelspec": {
   "display_name": "Python 3",
   "language": "python",
   "name": "python3"
  },
  "language_info": {
   "codemirror_mode": {
    "name": "ipython",
    "version": 3
   },
   "file_extension": ".py",
   "mimetype": "text/x-python",
   "name": "python",
   "nbconvert_exporter": "python",
   "pygments_lexer": "ipython3",
   "version": "3.7.6"
  }
 },
 "nbformat": 4,
 "nbformat_minor": 4
}
