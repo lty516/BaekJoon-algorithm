{
 "cells": [
  {
   "cell_type": "code",
   "execution_count": 3,
   "metadata": {},
   "outputs": [
    {
     "name": "stdout",
     "output_type": "stream",
     "text": [
      "20 30 10\n",
      "20\n"
     ]
    }
   ],
   "source": [
    "a, b ,c = map(int, input().split())\n",
    "abc = [a,b,c]\n",
    "\n",
    "abc.remove(max(abc))\n",
    "abc.remove(min(abc))\n",
    "print(abc[0])"
   ]
  },
  {
   "cell_type": "code",
   "execution_count": 4,
   "metadata": {},
   "outputs": [
    {
     "name": "stdout",
     "output_type": "stream",
     "text": [
      "20 30 10\n"
     ]
    }
   ],
   "source": [
    "a, b ,c = map(int, input().split())\n",
    "\n",
    "if a >= b:\n",
    "    if a >= c:\n",
    "        if b >= c:   \n",
    "            print(b)  # a >= b >= c \n",
    "        else:\n",
    "            print(c)  # a >= c >= b\n",
    "    else:\n",
    "        print(a) # a >= b > c\n",
    "else:\n",
    "    if b >= c:\n",
    "        if a >= c:\n",
    "            print(a)   # b = a > c\n",
    "        else:\n",
    "            print(c)   # b < a = c \n",
    "    else:\n",
    "        print(b) "
   ]
  },
  {
   "cell_type": "code",
   "execution_count": 5,
   "metadata": {},
   "outputs": [
    {
     "name": "stdout",
     "output_type": "stream",
     "text": [
      "20 30 10\n",
      "20\n"
     ]
    }
   ],
   "source": [
    "a, b, c = map(int, input().split(' '))\n",
    "\n",
    "if(a >= b):\n",
    "    if(a >= c):\n",
    "        if(b >= c):\n",
    "            print(b)\n",
    "        else:\n",
    "            print(c)\n",
    "    else:\n",
    "        print(a)\n",
    "else:\n",
    "    if(b >= c):\n",
    "        if(a >= c):\n",
    "            print(a)\n",
    "        else:\n",
    "            print(c)\n",
    "    else:\n",
    "        print(b)"
   ]
  },
  {
   "cell_type": "code",
   "execution_count": null,
   "metadata": {},
   "outputs": [],
   "source": []
  }
 ],
 "metadata": {
  "kernelspec": {
   "display_name": "Python 3",
   "language": "python",
   "name": "python3"
  },
  "language_info": {
   "codemirror_mode": {
    "name": "ipython",
    "version": 3
   },
   "file_extension": ".py",
   "mimetype": "text/x-python",
   "name": "python",
   "nbconvert_exporter": "python",
   "pygments_lexer": "ipython3",
   "version": "3.7.6"
  }
 },
 "nbformat": 4,
 "nbformat_minor": 4
}
